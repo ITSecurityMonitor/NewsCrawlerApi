{
 "cells": [
  {
   "cell_type": "code",
   "execution_count": 5,
   "metadata": {},
   "outputs": [],
   "source": [
    "from bs4 import BeautifulSoup\n",
    "import requests\n",
    "from functools import reduce\n",
    "import re\n",
    "import feedparser\n",
    "\n",
    "import schedule\n",
    "import time"
   ]
  },
  {
   "cell_type": "code",
   "execution_count": 26,
   "metadata": {},
   "outputs": [],
   "source": [
    "class Article:\n",
    "    def __init__(self, title, summary, url, text, date):\n",
    "        self.title = title\n",
    "        self.summary = summary\n",
    "        self.url = url\n",
    "        self.text = text\n",
    "        self.date = date\n",
    "        \n",
    "    def __str__(self):\n",
    "        return self.title + \"(\" + self.date + \"): \" + self.summary\n",
    "\n",
    "class NewsSite:\n",
    "    def __init__(self, name, feed_url, css_selector):\n",
    "        self.name = name\n",
    "        self.feed_url = feed_url\n",
    "        self.css_selector = css_selector\n",
    "        \n",
    "    def getRssEntries(self):\n",
    "        articles = []\n",
    "        NewsFeed = feedparser.parse(\"http://feeds.feedburner.com/Securityweek?format=xml\")\n",
    "        for entry in NewsFeed.entries:\n",
    "            text = self.crawlPage(entry[\"link\"])\n",
    "            articles.append(Article(entry[\"title\"], entry[\"summary\"], entry[\"link\"], text, entry[\"published\"]))\n",
    "            \n",
    "        return articles\n",
    "            \n",
    "    def crawlPage(self, url):\n",
    "        r  = requests.get(url)\n",
    "        data = r.text\n",
    "        soup = BeautifulSoup(data)     \n",
    "        text = \"\"\n",
    "        \n",
    "        for p in soup.select(self.css_selector):\n",
    "            paragraph = str(p.get_text()).replace(u'\\xa0', u' ')\n",
    "            text += paragraph\n",
    "\n",
    "        return text"
   ]
  },
  {
   "cell_type": "code",
   "execution_count": 27,
   "metadata": {},
   "outputs": [
    {
     "name": "stdout",
     "output_type": "stream",
     "text": [
      "The Digital Ship is Full of Leaks. But There Are Ways to Keep it Afloat.(Mon, 03 Aug 2020 15:17:43 +0000): <p><span style=\"font-size: medium;\"><span style=\"font-family: &quot;trebuchet ms&quot;, geneva;\">Years ago, while anchoring the CBS Evening News during an on-air mishap, Dan Rather made an offhand remark, observing that “To err is human. &nbsp;But to really screw up, you need a computer.”&nbsp;</span></span></p>\n",
      "<p><a href=\"https://www.securityweek.com/digital-ship-full-leaks-there-are-ways-keep-it-afloat\" target=\"_blank\">read more</a></p><div class=\"feedflare\">\n",
      "<a href=\"http://feeds.feedburner.com/~ff/Securityweek?a=turaI1SrRb0:bGRKdjmITZc:yIl2AUoC8zA\"><img src=\"http://feeds.feedburner.com/~ff/Securityweek?d=yIl2AUoC8zA\" border=\"0\"></img></a> <a href=\"http://feeds.feedburner.com/~ff/Securityweek?a=turaI1SrRb0:bGRKdjmITZc:-BTjWOF_DHI\"><img src=\"http://feeds.feedburner.com/~ff/Securityweek?i=turaI1SrRb0:bGRKdjmITZc:-BTjWOF_DHI\" border=\"0\"></img></a> <a href=\"http://feeds.feedburner.com/~ff/Securityweek?a=turaI1SrRb0:bGRKdjmITZc:dnMXMwOfBR0\"><img src=\"http://feeds.feedburner.com/~ff/Securityweek?d=dnMXMwOfBR0\" border=\"0\"></img></a> <a href=\"http://feeds.feedburner.com/~ff/Securityweek?a=turaI1SrRb0:bGRKdjmITZc:V_sGLiPBpWU\"><img src=\"http://feeds.feedburner.com/~ff/Securityweek?i=turaI1SrRb0:bGRKdjmITZc:V_sGLiPBpWU\" border=\"0\"></img></a> <a href=\"http://feeds.feedburner.com/~ff/Securityweek?a=turaI1SrRb0:bGRKdjmITZc:qj6IDK7rITs\"><img src=\"http://feeds.feedburner.com/~ff/Securityweek?d=qj6IDK7rITs\" border=\"0\"></img></a> <a href=\"http://feeds.feedburner.com/~ff/Securityweek?a=turaI1SrRb0:bGRKdjmITZc:gIN9vFwOqvQ\"><img src=\"http://feeds.feedburner.com/~ff/Securityweek?i=turaI1SrRb0:bGRKdjmITZc:gIN9vFwOqvQ\" border=\"0\"></img></a> <a href=\"http://feeds.feedburner.com/~ff/Securityweek?a=turaI1SrRb0:bGRKdjmITZc:TzevzKxY174\"><img src=\"http://feeds.feedburner.com/~ff/Securityweek?d=TzevzKxY174\" border=\"0\"></img></a> <a href=\"http://feeds.feedburner.com/~ff/Securityweek?a=turaI1SrRb0:bGRKdjmITZc:F7zBnMyn0Lo\"><img src=\"http://feeds.feedburner.com/~ff/Securityweek?i=turaI1SrRb0:bGRKdjmITZc:F7zBnMyn0Lo\" border=\"0\"></img></a>\n",
      "</div><img src=\"http://feeds.feedburner.com/~r/Securityweek/~4/turaI1SrRb0\" height=\"1\" width=\"1\" alt=\"\"/>\n"
     ]
    }
   ],
   "source": [
    "security_week = NewsSite(\"Security Week\", \"http://feeds.feedburner.com/Securityweek?format=xml\", \".content.clear-block > p, .content.clear-block > blockquote\")\n",
    "\n",
    "print(security_week.getRssEntries()[0])"
   ]
  },
  {
   "cell_type": "code",
   "execution_count": 21,
   "metadata": {},
   "outputs": [],
   "source": [
    "!pip freeze > requirements.txt"
   ]
  },
  {
   "cell_type": "code",
   "execution_count": null,
   "metadata": {},
   "outputs": [],
   "source": []
  }
 ],
 "metadata": {
  "kernelspec": {
   "display_name": "Python 3",
   "language": "python",
   "name": "python3"
  },
  "language_info": {
   "codemirror_mode": {
    "name": "ipython",
    "version": 3
   },
   "file_extension": ".py",
   "mimetype": "text/x-python",
   "name": "python",
   "nbconvert_exporter": "python",
   "pygments_lexer": "ipython3",
   "version": "3.7.4"
  }
 },
 "nbformat": 4,
 "nbformat_minor": 4
}
